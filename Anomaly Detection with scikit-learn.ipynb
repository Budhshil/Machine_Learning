{
 "cells": [
  {
   "cell_type": "code",
   "execution_count": 11,
   "id": "757643e0",
   "metadata": {},
   "outputs": [],
   "source": [
    "#Question 7: Anomaly Detection with scikit-learn\n",
    "import numpy as np\n",
    "import pandas as pd\n",
    "from sklearn.ensemble import IsolationForest\n",
    "\n"
   ]
  },
  {
   "cell_type": "code",
   "execution_count": 12,
   "id": "69266193",
   "metadata": {},
   "outputs": [],
   "source": [
    "#Base Data Create\n",
    "data = pd.DataFrame({\n",
    "'Sensor Reading':[10.2,11.1,10.3,10.5,10.2,100.0,10.4,10.3,10.2,10.6]\n",
    "})"
   ]
  },
  {
   "cell_type": "code",
   "execution_count": 13,
   "id": "b1a6f8fe",
   "metadata": {},
   "outputs": [],
   "source": [
    "# Extract the sensor reading column (assuming 'SensorReading' is the column name)\n",
    "X = data[['Sensor Reading']]\n",
    "\n"
   ]
  },
  {
   "cell_type": "code",
   "execution_count": 14,
   "id": "353c3514",
   "metadata": {},
   "outputs": [
    {
     "data": {
      "text/plain": [
       "IsolationForest(contamination=0.05, random_state=42)"
      ]
     },
     "execution_count": 14,
     "metadata": {},
     "output_type": "execute_result"
    }
   ],
   "source": [
    "# Create the Isolation Forest model\n",
    "model = IsolationForest(contamination=0.05, random_state=42)  # Adjust the contamination parameter as needed\n",
    "\n",
    "# Fit the model to the data\n",
    "model.fit(X)\n"
   ]
  },
  {
   "cell_type": "code",
   "execution_count": 15,
   "id": "2bfdb378",
   "metadata": {},
   "outputs": [],
   "source": [
    "# Predict anomalies (outliers) in the dataset\n",
    "y_pred = model.predict(X)\n"
   ]
  },
  {
   "cell_type": "code",
   "execution_count": 17,
   "id": "ead84678",
   "metadata": {},
   "outputs": [
    {
     "name": "stdout",
     "output_type": "stream",
     "text": [
      "   Sensor Reading  Anomaly\n",
      "5           100.0       -1\n"
     ]
    }
   ],
   "source": [
    "# Add the anomaly predictions to the DataFrame\n",
    "data['Anomaly'] = y_pred\n",
    "\n",
    "# Filter the DataFrame to show only the detected anomalies (Anomaly == -1)\n",
    "anomalies = data[data['Anomaly'] == -1]\n",
    "\n",
    "# Print or analyze the detected anomalies\n",
    "print(anomalies)\n"
   ]
  },
  {
   "cell_type": "code",
   "execution_count": null,
   "id": "96dd86e7",
   "metadata": {},
   "outputs": [],
   "source": []
  }
 ],
 "metadata": {
  "kernelspec": {
   "display_name": "Python 3",
   "language": "python",
   "name": "python3"
  },
  "language_info": {
   "codemirror_mode": {
    "name": "ipython",
    "version": 3
   },
   "file_extension": ".py",
   "mimetype": "text/x-python",
   "name": "python",
   "nbconvert_exporter": "python",
   "pygments_lexer": "ipython3",
   "version": "3.8.8"
  }
 },
 "nbformat": 4,
 "nbformat_minor": 5
}
