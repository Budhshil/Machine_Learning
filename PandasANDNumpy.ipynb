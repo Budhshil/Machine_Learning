{
 "cells": [
  {
   "cell_type": "code",
   "execution_count": 2,
   "id": "4bd9ca6b",
   "metadata": {},
   "outputs": [
    {
     "name": "stdout",
     "output_type": "stream",
     "text": [
      "0    5\n",
      "1    7\n",
      "2    9\n",
      "dtype: int64\n"
     ]
    }
   ],
   "source": [
    "#Que1:\n",
    "import pandas as pd \n",
    "data ={'a':[1,2,3],'b':[4,5,6]}\n",
    "df =pd.DataFrame(data)\n",
    "result =df ['a']+df['b']\n",
    "print(result)\n",
    "# Qutput :A: [5, 7, 9]"
   ]
  },
  {
   "cell_type": "code",
   "execution_count": 4,
   "id": "3c04069e",
   "metadata": {},
   "outputs": [
    {
     "name": "stdout",
     "output_type": "stream",
     "text": [
      "[2 4]\n"
     ]
    }
   ],
   "source": [
    "#Que2:\n",
    "import numpy as np\n",
    "arr = np.array([1,2,3,4,5])\n",
    "result=arr[arr%2==0]\n",
    "print(result)\n",
    "#B:[2, 4]"
   ]
  },
  {
   "cell_type": "code",
   "execution_count": 6,
   "id": "f4c66581",
   "metadata": {},
   "outputs": [
    {
     "name": "stdout",
     "output_type": "stream",
     "text": [
      "1    bob\n",
      "Name: Name, dtype: object\n"
     ]
    }
   ],
   "source": [
    "#Que3:\n",
    "import pandas as pd \n",
    "data = {'Name':['alice','bob','charlie'],'age':[25,30,22]}\n",
    "df =pd.DataFrame(data)\n",
    "result =df[df['age'] > 25]['Name']\n",
    "print(result)\n",
    "A. ['Bob', 'Charlie']"
   ]
  },
  {
   "cell_type": "code",
   "execution_count": 8,
   "id": "b5dea081",
   "metadata": {},
   "outputs": [
    {
     "name": "stdout",
     "output_type": "stream",
     "text": [
      "4.414213562373095\n"
     ]
    }
   ],
   "source": [
    "#Que4:\n",
    "import numpy as np\n",
    "arr = np.array([1,2,3,4,5])\n",
    "result = np.mean(arr) + np.std(arr)\n",
    "print(result)"
   ]
  },
  {
   "cell_type": "code",
   "execution_count": 11,
   "id": "d9f61c6c",
   "metadata": {},
   "outputs": [
    {
     "name": "stdout",
     "output_type": "stream",
     "text": [
      "0     10\n",
      "1     40\n",
      "2     90\n",
      "3    160\n",
      "4    250\n",
      "dtype: int64\n"
     ]
    }
   ],
   "source": [
    "#Que5:\n",
    "import pandas as pd \n",
    "data = {'a':[1,2,3,4,5],'b':[10,20,30,40,50]}\n",
    "df=pd.DataFrame(data)\n",
    "result= df['a'] * df['b']\n",
    "print(result)\n",
    "#A. [10, 40, 90, 160, 250]"
   ]
  },
  {
   "cell_type": "code",
   "execution_count": 12,
   "id": "e32e6ebd",
   "metadata": {},
   "outputs": [
    {
     "name": "stdout",
     "output_type": "stream",
     "text": [
      "[5 7 9]\n"
     ]
    }
   ],
   "source": [
    "#Que6:\n",
    "import numpy as np\n",
    "arr = np.array([[1,2,3],[4,5,6]])\n",
    "result = np.sum(arr,axis=0)\n",
    "print(result)\n",
    "#A. [5, 7, 9]"
   ]
  },
  {
   "cell_type": "code",
   "execution_count": 13,
   "id": "e88e0a42",
   "metadata": {},
   "outputs": [
    {
     "name": "stdout",
     "output_type": "stream",
     "text": [
      "['bob']\n"
     ]
    }
   ],
   "source": [
    "#Que7:\n",
    "import pandas as pd\n",
    "data ={'Name':['alice','bob','charlie'],'Age':[25,30,22]}\n",
    "df =pd.DataFrame(data)\n",
    "result = df[df['Age']> 25 ]['Name'].values\n",
    "print(result)"
   ]
  },
  {
   "cell_type": "code",
   "execution_count": 14,
   "id": "e874127d",
   "metadata": {},
   "outputs": [
    {
     "name": "stdout",
     "output_type": "stream",
     "text": [
      "[1 2 3 4 5 6 9]\n"
     ]
    }
   ],
   "source": [
    "#Que8.\n",
    "import numpy as np\n",
    "arr = np.array([3,1,4,1,5,9,2,6,5,3,5])\n",
    "result = np.unique(arr)\n",
    "print(result)\n",
    "#A. [1, 2, 3, 4, 5, 6, 9]"
   ]
  },
  {
   "cell_type": "code",
   "execution_count": 15,
   "id": "5d746212",
   "metadata": {},
   "outputs": [
    {
     "name": "stdout",
     "output_type": "stream",
     "text": [
      "a     6\n",
      "b    15\n",
      "dtype: int64\n"
     ]
    }
   ],
   "source": [
    "#Que9:\n",
    "import pandas as pd \n",
    "data ={'a':[1,2,3],'b':[4,5,6]}\n",
    "df = pd.DataFrame(data)\n",
    "result = df.sum(axis=0)\n",
    "print(result)\n",
    "#B. [6, 15]"
   ]
  },
  {
   "cell_type": "code",
   "execution_count": 17,
   "id": "e9fea0e4",
   "metadata": {},
   "outputs": [
    {
     "name": "stdout",
     "output_type": "stream",
     "text": [
      "4.0\n"
     ]
    }
   ],
   "source": [
    "#Que10:\n",
    "import numpy as np\n",
    "arr = np.array([1,2,3,4,5])\n",
    "result = np.percentile(arr,75)\n",
    "print(result)\n",
    "#C. 4.0"
   ]
  },
  {
   "cell_type": "code",
   "execution_count": null,
   "id": "fbe762a7",
   "metadata": {},
   "outputs": [],
   "source": []
  }
 ],
 "metadata": {
  "kernelspec": {
   "display_name": "Python 3",
   "language": "python",
   "name": "python3"
  },
  "language_info": {
   "codemirror_mode": {
    "name": "ipython",
    "version": 3
   },
   "file_extension": ".py",
   "mimetype": "text/x-python",
   "name": "python",
   "nbconvert_exporter": "python",
   "pygments_lexer": "ipython3",
   "version": "3.8.8"
  }
 },
 "nbformat": 4,
 "nbformat_minor": 5
}
