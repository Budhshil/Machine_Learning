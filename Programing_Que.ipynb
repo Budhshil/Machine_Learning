{
 "cells": [
  {
   "cell_type": "code",
   "execution_count": 2,
   "id": "e6d0a7a4",
   "metadata": {},
   "outputs": [
    {
     "name": "stdout",
     "output_type": "stream",
     "text": [
      "Alice's age is 25.\n",
      "The average age of all individuals is 25.67 years.\n"
     ]
    }
   ],
   "source": [
    "#Que1:\n",
    "import pandas as pd\n",
    "\n",
    "# Create the DataFrame 'df'\n",
    "data = {'Name': ['Alice', 'Bob', 'Charlie'], 'Age': [25, 30, 22]}\n",
    "df = pd.DataFrame(data)\n",
    "\n",
    "# Test case 1: Print Alice's age\n",
    "def test_print_alice_age():\n",
    "    alice_age = df[df['Name'] == 'Alice']['Age'].values[0]\n",
    "    print(f\"Alice's age is {alice_age}.\")\n",
    "\n",
    "# Test case 2: Calculate the average age of all individuals\n",
    "def test_calculate_average_age():\n",
    "    average_age = df['Age'].mean()\n",
    "    print(f\"The average age of all individuals is {average_age:.2f} years.\")\n",
    "\n",
    "# Run the test cases\n",
    "test_print_alice_age()\n",
    "test_calculate_average_age()\n"
   ]
  },
  {
   "cell_type": "code",
   "execution_count": null,
   "id": "efcc4133",
   "metadata": {},
   "outputs": [],
   "source": [
    "#Que2"
   ]
  },
  {
   "cell_type": "code",
   "execution_count": 4,
   "id": "7bf91c0b",
   "metadata": {},
   "outputs": [
    {
     "name": "stdout",
     "output_type": "stream",
     "text": [
      "DataFrame 'df':\n",
      "          City  Population\n",
      "0     New York     8623000\n",
      "1  Los Angeles     3999759\n",
      "2      Chicago     2716000\n",
      "The city with the largest population is: New York\n",
      "The total population of all cities is: 15338759\n"
     ]
    }
   ],
   "source": [
    "import pandas as pd\n",
    "\n",
    "# Create the DataFrame 'df'\n",
    "data = {'City': ['New York', 'Los Angeles', 'Chicago'],\n",
    "        'Population': [8623000, 3999759, 2716000]}\n",
    "df = pd.DataFrame(data)\n",
    "\n",
    "# Test case 1: Print the DataFrame\n",
    "def test_print_dataframe():\n",
    "    print(\"DataFrame 'df':\")\n",
    "    print(df)\n",
    "\n",
    "# Test case 2: Find the city with the largest population\n",
    "def test_find_largest_population():\n",
    "    city_with_largest_population = df.loc[df['Population'].idxmax()]['City']\n",
    "    print(f\"The city with the largest population is: {city_with_largest_population}\")\n",
    "\n",
    "# Test case 3: Calculate the total population of all cities\n",
    "def test_calculate_total_population():\n",
    "    total_population = df['Population'].sum()\n",
    "    print(f\"The total population of all cities is: {total_population}\")\n",
    "\n",
    "# Run the test cases\n",
    "test_print_dataframe()\n",
    "test_find_largest_population()\n",
    "test_calculate_total_population()\n"
   ]
  },
  {
   "cell_type": "code",
   "execution_count": null,
   "id": "cb7db088",
   "metadata": {},
   "outputs": [],
   "source": [
    "#Que3"
   ]
  },
  {
   "cell_type": "code",
   "execution_count": 5,
   "id": "a5492813",
   "metadata": {},
   "outputs": [
    {
     "name": "stdout",
     "output_type": "stream",
     "text": [
      "Array 'arr':\n",
      "[0.59563948 0.1785141  0.68170247 0.28107722 0.39034973 0.67752724\n",
      " 0.07306628 0.12579443 0.22884384 0.07391339 0.90954036 0.35247834\n",
      " 0.54297728 0.39621817 0.66821336 0.44136504 0.227839   0.18055369\n",
      " 0.09459849 0.69251462]\n",
      "The mean of 'arr' is: 0.3906\n",
      "Number of values in 'arr' greater than 0.5: 7\n"
     ]
    }
   ],
   "source": [
    "import numpy as np\n",
    "\n",
    "# Create the NumPy array 'arr' with 20 random values between 0 and 1 (inclusive)\n",
    "arr = np.random.rand(20)\n",
    "\n",
    "# Test case 1: Print the array 'arr'\n",
    "def test_print_array():\n",
    "    print(\"Array 'arr':\")\n",
    "    print(arr)\n",
    "\n",
    "# Test case 2: Calculate the mean of 'arr'\n",
    "def test_calculate_mean():\n",
    "    mean = np.mean(arr)\n",
    "    print(f\"The mean of 'arr' is: {mean:.4f}\")\n",
    "\n",
    "# Test case 3: Count how many values in 'arr' are greater than 0.5\n",
    "def test_count_values_greater_than_05():\n",
    "    count = np.sum(arr > 0.5)\n",
    "    print(f\"Number of values in 'arr' greater than 0.5: {count}\")\n",
    "\n",
    "# Run the test cases\n",
    "test_print_array()\n",
    "test_calculate_mean()\n",
    "test_count_values_greater_than_05()\n"
   ]
  },
  {
   "cell_type": "code",
   "execution_count": null,
   "id": "85f01c69",
   "metadata": {},
   "outputs": [],
   "source": [
    "#Que4:"
   ]
  },
  {
   "cell_type": "code",
   "execution_count": 6,
   "id": "d4daf407",
   "metadata": {},
   "outputs": [
    {
     "name": "stdout",
     "output_type": "stream",
     "text": [
      "DataFrame 'df':\n",
      "   ProductID ProductName  Price\n",
      "0        101      Laptop    800\n",
      "1        102  Smartphone    400\n",
      "2        103      Tablet    250\n",
      "The product with the highest price is:\n",
      "ProductID         101\n",
      "ProductName    Laptop\n",
      "Price             800\n",
      "Name: 0, dtype: object\n",
      "The total cost of all products is: $1450.00\n"
     ]
    }
   ],
   "source": [
    "import pandas as pd\n",
    "\n",
    "# Create the DataFrame 'df'\n",
    "data = {'ProductID': [101, 102, 103],\n",
    "        'ProductName': ['Laptop', 'Smartphone', 'Tablet'],\n",
    "        'Price': [800, 400, 250]}\n",
    "df = pd.DataFrame(data)\n",
    "\n",
    "# Test case 1: Print the DataFrame\n",
    "def test_print_dataframe():\n",
    "    print(\"DataFrame 'df':\")\n",
    "    print(df)\n",
    "\n",
    "# Test case 2: Find the product with the highest price\n",
    "def test_find_highest_price_product():\n",
    "    highest_price_product = df.loc[df['Price'].idxmax()]\n",
    "    print(f\"The product with the highest price is:\\n{highest_price_product}\")\n",
    "\n",
    "# Test case 3: Calculate the total cost of all products\n",
    "def test_calculate_total_cost():\n",
    "    total_cost = df['Price'].sum()\n",
    "    print(f\"The total cost of all products is: ${total_cost:.2f}\")\n",
    "\n",
    "# Run the test cases\n",
    "test_print_dataframe()\n",
    "test_find_highest_price_product()\n",
    "test_calculate_total_cost()\n"
   ]
  },
  {
   "cell_type": "code",
   "execution_count": null,
   "id": "d6f8bbbc",
   "metadata": {},
   "outputs": [],
   "source": [
    "#que5:"
   ]
  },
  {
   "cell_type": "code",
   "execution_count": 7,
   "id": "2adc94af",
   "metadata": {},
   "outputs": [
    {
     "name": "stdout",
     "output_type": "stream",
     "text": [
      "DataFrame 'df':\n",
      "     City  Population   Area\n",
      "0  London     8787892  607.0\n",
      "1   Paris     2206488   40.7\n",
      "2  Berlin     3644826  344.0\n",
      "The city with the highest population density is Paris, with a density of 54213.46 people per square unit.\n",
      "The total area of all cities is 991.7 square units.\n"
     ]
    }
   ],
   "source": [
    "import pandas as pd\n",
    "\n",
    "# Create the DataFrame 'df'\n",
    "data = {'City': ['London', 'Paris', 'Berlin'],\n",
    "        'Population': [8787892, 2206488, 3644826],\n",
    "        'Area': [607, 40.7, 344]}\n",
    "df = pd.DataFrame(data)\n",
    "\n",
    "# Test case 1: Print the DataFrame\n",
    "def test_print_dataframe():\n",
    "    print(\"DataFrame 'df':\")\n",
    "    print(df)\n",
    "\n",
    "# Test case 2: Find the city with the highest population density (population/area)\n",
    "def test_find_highest_population_density():\n",
    "    df['PopulationDensity'] = df['Population'] / df['Area']\n",
    "    city_with_highest_density = df.loc[df['PopulationDensity'].idxmax()]['City']\n",
    "    max_density = df['PopulationDensity'].max()\n",
    "    print(f\"The city with the highest population density is {city_with_highest_density}, with a density of {max_density:.2f} people per square unit.\")\n",
    "\n",
    "# Test case 3: Calculate the total area of all cities\n",
    "def test_calculate_total_area():\n",
    "    total_area = df['Area'].sum()\n",
    "    print(f\"The total area of all cities is {total_area} square units.\")\n",
    "\n",
    "# Run the test cases\n",
    "test_print_dataframe()\n",
    "test_find_highest_population_density()\n",
    "test_calculate_total_area()\n"
   ]
  },
  {
   "cell_type": "code",
   "execution_count": null,
   "id": "25a5d4cb",
   "metadata": {},
   "outputs": [],
   "source": []
  }
 ],
 "metadata": {
  "kernelspec": {
   "display_name": "Python 3",
   "language": "python",
   "name": "python3"
  },
  "language_info": {
   "codemirror_mode": {
    "name": "ipython",
    "version": 3
   },
   "file_extension": ".py",
   "mimetype": "text/x-python",
   "name": "python",
   "nbconvert_exporter": "python",
   "pygments_lexer": "ipython3",
   "version": "3.8.8"
  }
 },
 "nbformat": 4,
 "nbformat_minor": 5
}
